{
  "nbformat": 4,
  "nbformat_minor": 0,
  "metadata": {
    "colab": {
      "name": "Untitled2.ipynb",
      "provenance": [],
      "collapsed_sections": [],
      "include_colab_link": true
    },
    "kernelspec": {
      "name": "python374jvsc74a57bd0c03b8e196e4151f9e19ca1535bb7f802ddf56969b0b17549012f5b8e6d314139",
      "display_name": "Python 3.7.4 64-bit ('base': conda)"
    }
  },
  "cells": [
    {
      "cell_type": "markdown",
      "metadata": {
        "id": "view-in-github",
        "colab_type": "text"
      },
      "source": [
        "<a href=\"https://colab.research.google.com/github/pepper99/coding_shenanigans/blob/main/python_shenanigans.ipynb\" target=\"_parent\"><img src=\"https://colab.research.google.com/assets/colab-badge.svg\" alt=\"Open In Colab\"/></a>"
      ]
    },
    {
      "cell_type": "code",
      "metadata": {
        "colab": {
          "base_uri": "https://localhost:8080/"
        },
        "id": "vEiRqxm2rWIg",
        "outputId": "794f7b12-4619-406e-c928-0221e689d769"
      },
      "source": [
        "#@title Output all possible bit strings of length n with at most x ones\n",
        "x = 3 #@param {type:\"integer\"}\n",
        "n = 5 #@param {type:\"integer\"}\n",
        "\n",
        "def bits_with_max_ones(n, ones):\n",
        "  if(n < ones):\n",
        "    print(\"Error: Too many ones!\\n\")\n",
        "    return\n",
        "  a = [0 for i in range(n)]\n",
        "  show(a, 0, ones, n)\n",
        "\n",
        "def show(a,i,one,n):\n",
        "  if i < n:\n",
        "    a[i] = 0\n",
        "    show(a,i+1,one,n)\n",
        "    if (one > 0):\n",
        "      a[i] = 1\n",
        "      show(a,i+1,one-1,n)\n",
        "  else:\n",
        "    print(''.join([str(x) for x in a]))\n",
        "\n",
        "bits_with_max_ones(n, x)"
      ],
      "execution_count": 8,
      "outputs": [
        {
          "output_type": "stream",
          "name": "stdout",
          "text": [
            "00000\n00001\n00010\n00011\n00100\n00101\n00110\n00111\n01000\n01001\n01010\n01011\n01100\n01101\n01110\n10000\n10001\n10010\n10011\n10100\n10101\n10110\n11000\n11001\n11010\n11100\n"
          ]
        }
      ]
    },
    {
      "cell_type": "code",
      "metadata": {
        "colab": {
          "base_uri": "https://localhost:8080/"
        },
        "id": "8_Z-QdTEWV9Z",
        "outputId": "3976a3cb-1423-4a87-aa5d-a985672de327"
      },
      "source": [
        "#@title Sleep sort\n",
        "\n",
        "import time\n",
        "import threading\n",
        "\n",
        "sorted = []\n",
        "\n",
        "def func(n):\n",
        "  time.sleep(n)\n",
        "  sorted.append(n)\n",
        " \n",
        "def sleepsort(a):\n",
        "  mx = -1\n",
        "  for n in a:\n",
        "    mx = max(mx, n)\n",
        "    threading.Thread(target=func, args=[n]).start()\n",
        "  time.sleep(mx+1)\n",
        "  print(\"before :\", a)\n",
        "  print(\"after :\", sorted)\n",
        "\n",
        "a = []\n",
        "i = 0\n",
        "while True:\n",
        "  i = int(input(\"Input non-negative integer or negative integer to stop: \"))\n",
        "  if i < 0:\n",
        "    break\n",
        "  a.append(i)\n",
        "sleepsort(a)"
      ],
      "execution_count": 4,
      "outputs": [
        {
          "output_type": "stream",
          "name": "stdout",
          "text": [
            "before : [1, 0, 6, 3, 3, 4]\nafter : [0, 1, 3, 3, 4, 6]\n"
          ]
        }
      ]
    }
  ]
}