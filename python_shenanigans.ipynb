{
  "nbformat": 4,
  "nbformat_minor": 2,
  "metadata": {
    "colab": {
      "name": "Untitled2.ipynb",
      "provenance": [],
      "collapsed_sections": [],
      "include_colab_link": true
    },
    "kernelspec": {
      "name": "python3",
      "display_name": "Python 3.7.4 64-bit ('base': conda)"
    },
    "language_info": {
      "name": "python",
      "version": "3.7.4",
      "mimetype": "text/x-python",
      "codemirror_mode": {
        "name": "ipython",
        "version": 3
      },
      "pygments_lexer": "ipython3",
      "nbconvert_exporter": "python",
      "file_extension": ".py"
    },
    "interpreter": {
      "hash": "c03b8e196e4151f9e19ca1535bb7f802ddf56969b0b17549012f5b8e6d314139"
    }
  },
  "cells": [
    {
      "cell_type": "markdown",
      "source": [
        "<a href=\"https://colab.research.google.com/github/pepper99/coding_shenanigans/blob/main/python_shenanigans.ipynb\" target=\"_parent\"><img src=\"https://colab.research.google.com/assets/colab-badge.svg\" alt=\"Open In Colab\"/></a>"
      ],
      "metadata": {
        "id": "view-in-github",
        "colab_type": "text"
      }
    },
    {
      "cell_type": "code",
      "execution_count": 8,
      "source": [
        "#@title Output all possible bit strings of length n with at most x ones\r\n",
        "x = 3 #@param {type:\"integer\"}\r\n",
        "n = 5 #@param {type:\"integer\"}\r\n",
        "\r\n",
        "def bits_with_max_ones(n, ones):\r\n",
        "  if(n < ones):\r\n",
        "    print(\"Error: Too many ones!\\n\")\r\n",
        "    return\r\n",
        "  a = [0 for i in range(n)]\r\n",
        "  show(a, 0, ones, n)\r\n",
        "\r\n",
        "def show(a,i,one,n):\r\n",
        "  if i < n:\r\n",
        "    a[i] = 0\r\n",
        "    show(a,i+1,one,n)\r\n",
        "    if (one > 0):\r\n",
        "      a[i] = 1\r\n",
        "      show(a,i+1,one-1,n)\r\n",
        "  else:\r\n",
        "    print(''.join([str(x) for x in a]))\r\n",
        "\r\n",
        "bits_with_max_ones(n, x)"
      ],
      "outputs": [
        {
          "output_type": "stream",
          "name": "stdout",
          "text": [
            "00000\n",
            "00001\n",
            "00010\n",
            "00011\n",
            "00100\n",
            "00101\n",
            "00110\n",
            "00111\n",
            "01000\n",
            "01001\n",
            "01010\n",
            "01011\n",
            "01100\n",
            "01101\n",
            "01110\n",
            "10000\n",
            "10001\n",
            "10010\n",
            "10011\n",
            "10100\n",
            "10101\n",
            "10110\n",
            "11000\n",
            "11001\n",
            "11010\n",
            "11100\n"
          ]
        }
      ],
      "metadata": {
        "colab": {
          "base_uri": "https://localhost:8080/"
        },
        "id": "vEiRqxm2rWIg",
        "outputId": "794f7b12-4619-406e-c928-0221e689d769"
      }
    },
    {
      "cell_type": "code",
      "execution_count": 4,
      "source": [
        "#@title Sleep sort\r\n",
        "\r\n",
        "import time\r\n",
        "import threading\r\n",
        "\r\n",
        "sorted = []\r\n",
        "\r\n",
        "def func(n):\r\n",
        "  time.sleep(n)\r\n",
        "  sorted.append(n)\r\n",
        " \r\n",
        "def sleepsort(a):\r\n",
        "  mx = -1\r\n",
        "  for n in a:\r\n",
        "    mx = max(mx, n)\r\n",
        "    threading.Thread(target=func, args=[n]).start()\r\n",
        "  time.sleep(mx+1)\r\n",
        "  print(\"before :\", a)\r\n",
        "  print(\"after :\", sorted)\r\n",
        "\r\n",
        "a = []\r\n",
        "i = 0\r\n",
        "while True:\r\n",
        "  i = int(input(\"Input non-negative integer or negative integer to stop: \"))\r\n",
        "  if i < 0:\r\n",
        "    break\r\n",
        "  a.append(i)\r\n",
        "sleepsort(a)"
      ],
      "outputs": [
        {
          "output_type": "stream",
          "name": "stdout",
          "text": [
            "before : [1, 0, 6, 3, 3, 4]\n",
            "after : [0, 1, 3, 3, 4, 6]\n"
          ]
        }
      ],
      "metadata": {
        "colab": {
          "base_uri": "https://localhost:8080/"
        },
        "id": "8_Z-QdTEWV9Z",
        "outputId": "3976a3cb-1423-4a87-aa5d-a985672de327"
      }
    },
    {
      "cell_type": "code",
      "execution_count": 4,
      "source": [
        "#@title Monte Carlo Pi estimation\r\n",
        "\r\n",
        "import random\r\n",
        "from math import sqrt\r\n",
        "\r\n",
        "n = 10000000\r\n",
        "count = 0\r\n",
        "\r\n",
        "for i in range(n):\r\n",
        "    x, y = (random.random() * 2 - 1, random.random() * 2 - 1)\r\n",
        "    if sqrt(x*x + y*y) <= 1:\r\n",
        "        count += 1\r\n",
        "\r\n",
        "print(4*count/n)"
      ],
      "outputs": [
        {
          "output_type": "stream",
          "name": "stdout",
          "text": [
            "3.14134\n"
          ]
        }
      ],
      "metadata": {}
    }
  ]
}