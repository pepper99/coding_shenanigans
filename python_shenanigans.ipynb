{
  "nbformat": 4,
  "nbformat_minor": 0,
  "metadata": {
    "colab": {
      "name": "Untitled2.ipynb",
      "provenance": [],
      "collapsed_sections": [],
      "include_colab_link": true
    },
    "kernelspec": {
      "name": "python3",
      "display_name": "Python 3"
    }
  },
  "cells": [
    {
      "cell_type": "markdown",
      "metadata": {
        "id": "view-in-github",
        "colab_type": "text"
      },
      "source": [
        "<a href=\"https://colab.research.google.com/github/pepper99/coding_shenanigans/blob/main/python_shenanigans.ipynb\" target=\"_parent\"><img src=\"https://colab.research.google.com/assets/colab-badge.svg\" alt=\"Open In Colab\"/></a>"
      ]
    },
    {
      "cell_type": "code",
      "metadata": {
        "colab": {
          "base_uri": "https://localhost:8080/"
        },
        "id": "vEiRqxm2rWIg",
        "outputId": "794f7b12-4619-406e-c928-0221e689d769"
      },
      "source": [
        "def bits_with_max_ones(n, ones):\n",
        "  if(n < ones):\n",
        "    print(\"Error: Too many ones!\\n\")\n",
        "    return\n",
        "  a = [0 for i in range(n)]\n",
        "  show(a, 0, ones, n)\n",
        "\n",
        "def show(a,i,one,n):\n",
        "  if i < n:\n",
        "    a[i] = 0\n",
        "    show(a,i+1,one,n)\n",
        "    if (one > 0):\n",
        "      a[i] = 1\n",
        "      show(a,i+1,one-1,n)\n",
        "  else:\n",
        "    print(a)\n",
        "\n",
        "bits_with_max_ones(10, 16)"
      ],
      "execution_count": 8,
      "outputs": [
        {
          "output_type": "stream",
          "text": [
            "Error: Too many ones!\n",
            "\n"
          ],
          "name": "stdout"
        }
      ]
    },
    {
      "cell_type": "code",
      "metadata": {
        "colab": {
          "base_uri": "https://localhost:8080/"
        },
        "id": "8_Z-QdTEWV9Z",
        "outputId": "3976a3cb-1423-4a87-aa5d-a985672de327"
      },
      "source": [
        "import time\n",
        "import threading\n",
        "\n",
        "sorted = []\n",
        "\n",
        "def func(n):\n",
        "  time.sleep(n)\n",
        "  sorted.append(n)\n",
        " \n",
        "def sleepsort(a):\n",
        "  mx = -1\n",
        "  for n in a:\n",
        "    mx = max(mx, n)\n",
        "    threading.Thread(target=func, args=[n]).start()\n",
        "  time.sleep(mx)\n",
        "  print(\"before :\", a)\n",
        "  print(\"after :\", sorted)\n",
        " \n",
        "a = [3,2,4,7,3,6,9,1]\n",
        "sleepsort(a)"
      ],
      "execution_count": 17,
      "outputs": [
        {
          "output_type": "stream",
          "text": [
            "before : [3, 2, 4, 7, 3, 6, 9, 1]\n",
            "after : [1, 2, 3, 3, 4, 6, 7, 9]\n"
          ],
          "name": "stdout"
        }
      ]
    }
  ]
}